{
 "cells": [
  {
   "cell_type": "markdown",
   "id": "c1a54eb0",
   "metadata": {},
   "source": [
    "# Regresión lineal (Colab) con `housing.csv`\n",
    "Notebook con estilo Colab: monta Drive, carga `housing.csv`, preprocesa, entrena (Linear/Ridge/Lasso) y evalúa."
   ]
  },
  {
   "cell_type": "code",
   "execution_count": null,
   "id": "132c2f8a",
   "metadata": {},
   "outputs": [],
   "source": [
    "import os, numpy as np, pandas as pd, matplotlib.pyplot as plt\n",
    "from sklearn.model_selection import train_test_split\n",
    "from sklearn.linear_model import LinearRegression, Ridge, Lasso\n",
    "from sklearn.metrics import mean_squared_error, r2_score\n",
    "%matplotlib inline"
   ]
  },
  {
   "cell_type": "code",
   "execution_count": null,
   "id": "aefb5df8",
   "metadata": {},
   "outputs": [],
   "source": [
    "try:\n",
    "    from google.colab import drive\n",
    "    drive.mount('/content/drive')\n",
    "    USING_COLAB = True\n",
    "except Exception:\n",
    "    print('No se detectó Google Colab. Se usará ruta local.')\n",
    "    USING_COLAB = False"
   ]
  },
  {
   "cell_type": "code",
   "execution_count": null,
   "id": "783fb8f9",
   "metadata": {},
   "outputs": [],
   "source": [
    "csv_path = '/content/drive/MyDrive/housing.csv' if USING_COLAB else 'housing.csv'\n",
    "data = pd.read_csv(csv_path)\n",
    "print('Dimensiones del dataset:', data.shape)\n",
    "data.head()"
   ]
  },
  {
   "cell_type": "code",
   "execution_count": null,
   "id": "c141c634",
   "metadata": {},
   "outputs": [],
   "source": [
    "print(data.info())\n",
    "print(data.describe(include='all').T.head(15))\n",
    "print('\\nNulos por columna:\\n', data.isnull().sum())"
   ]
  },
  {
   "cell_type": "code",
   "execution_count": null,
   "id": "31085ca7",
   "metadata": {},
   "outputs": [],
   "source": [
    "if 'total_bedrooms' in data.columns:\n",
    "    data['total_bedrooms'].fillna(data['total_bedrooms'].median(), inplace=True)\n",
    "if 'ocean_proximity' in data.columns:\n",
    "    data = pd.get_dummies(data, columns=['ocean_proximity'], drop_first=True)\n",
    "print('Dimensiones tras preprocesamiento:', data.shape)\n",
    "data.head()"
   ]
  },
  {
   "cell_type": "code",
   "execution_count": null,
   "id": "16cff3b1",
   "metadata": {},
   "outputs": [],
   "source": [
    "X = data.drop('median_house_value', axis=1)\n",
    "y = data['median_house_value']\n",
    "print('Shape X:', X.shape, 'Shape y:', y.shape)"
   ]
  },
  {
   "cell_type": "code",
   "execution_count": null,
   "id": "5e47be6f",
   "metadata": {},
   "outputs": [],
   "source": [
    "X_train, X_test, y_train, y_test = train_test_split(X, y, test_size=0.2, random_state=42)\n",
    "print('Train:', X_train.shape, 'Test:', X_test.shape)"
   ]
  },
  {
   "cell_type": "code",
   "execution_count": null,
   "id": "2298f7b0",
   "metadata": {},
   "outputs": [],
   "source": [
    "lin = LinearRegression(); lin.fit(X_train, y_train)\n",
    "y_pred = lin.predict(X_test)"
   ]
  },
  {
   "cell_type": "code",
   "execution_count": null,
   "id": "a9262f39",
   "metadata": {},
   "outputs": [],
   "source": [
    "import numpy as np\n",
    "mse = mean_squared_error(y_test, y_pred)\n",
    "rmse = np.sqrt(mse)\n",
    "r2 = r2_score(y_test, y_pred)\n",
    "print('MSE:', mse); print('RMSE:', rmse); print('R^2:', r2)"
   ]
  },
  {
   "cell_type": "code",
   "execution_count": null,
   "id": "a30f0b4d",
   "metadata": {},
   "outputs": [],
   "source": [
    "plt.scatter(y_test, y_pred, alpha=0.5)\n",
    "plt.xlabel('Valores reales'); plt.ylabel('Predicciones')\n",
    "plt.title('Regresión Lineal - Reales vs Predichos')\n",
    "plt.show()"
   ]
  },
  {
   "cell_type": "code",
   "execution_count": null,
   "id": "b91b411e",
   "metadata": {},
   "outputs": [],
   "source": [
    "ridge = Ridge(alpha=10).fit(X_train, y_train)\n",
    "lasso = Lasso(alpha=0.1, max_iter=10000).fit(X_train, y_train)\n",
    "print('Ridge R^2:', ridge.score(X_test, y_test))\n",
    "print('Lasso R^2:', lasso.score(X_test, y_test))"
   ]
  }
 ],
 "metadata": {},
 "nbformat": 4,
 "nbformat_minor": 5
}
